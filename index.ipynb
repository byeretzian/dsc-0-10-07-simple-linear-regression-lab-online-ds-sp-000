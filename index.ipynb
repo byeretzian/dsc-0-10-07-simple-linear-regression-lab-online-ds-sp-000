{
 "cells": [
  {
   "cell_type": "markdown",
   "metadata": {},
   "source": [
    "# Simple Linear Regression - Lab\n",
    "\n",
    "## Introduction\n",
    "\n",
    "Regression analysis forms the basis of machine learning experiments. Understanding regression will help you to get the foundations of most machine learing algorithms. Ever wondered what's at the heart of an artificial neural network processing unstructured data like music and graphics? It can be linear regression!\n",
    "\n",
    "\n",
    "## Objectives\n",
    "\n",
    "You will be able to:\n",
    "\n",
    "* Calculate the slope of a line using standard slope formula \n",
    "* Calculate the y-intercept using the slope value\n",
    "* Draw a regression line based on calculated slope and intercept\n",
    "* Predict the label of a previously unseen data element\n",
    "\n"
   ]
  },
  {
   "cell_type": "markdown",
   "metadata": {},
   "source": [
    "## Let's get started \n",
    "\n",
    "A first step towards understanding regression is getting a clear idea about \"linear\" regression and basic linear algebra. "
   ]
  },
  {
   "cell_type": "markdown",
   "metadata": {},
   "source": [
    "The calculation for the best-fit line's slope, `m` is calculated as :\n",
    "![](best-fit-slope.png)"
   ]
  },
  {
   "cell_type": "markdown",
   "metadata": {},
   "source": [
    "\n",
    "As in our previous lesson, let's break down the formula into its parts. First we shall import the required libraries and define some data points to work with. We shall first create some toy data as numpy arrays. Let's do this for you to give you a head start. "
   ]
  },
  {
   "cell_type": "code",
   "execution_count": 1,
   "metadata": {},
   "outputs": [],
   "source": [
    "# import necessary libraries\n",
    "\n",
    "import numpy as np\n",
    "import matplotlib.pyplot as plt\n",
    "from matplotlib import style\n",
    "style.use('ggplot')\n",
    "\n",
    "# Initialize vectors X and Y with given values and create a scatter plot\n",
    "X = np.array([1,2,3,4,5,6,8,8,9,10], dtype=np.float64)\n",
    "Y = np.array([7,7,8,9,9,10,10,11,11,12], dtype=np.float64)"
   ]
  },
  {
   "cell_type": "markdown",
   "metadata": {},
   "source": [
    "## Show a scatter plot between X and Y and comment on the output "
   ]
  },
  {
   "cell_type": "code",
   "execution_count": 2,
   "metadata": {},
   "outputs": [
    {
     "data": {
      "text/plain": [
       "<matplotlib.collections.PathCollection at 0x11279ea90>"
      ]
     },
     "execution_count": 2,
     "metadata": {},
     "output_type": "execute_result"
    },
    {
     "data": {
      "image/png": "[encoded data removed]",
      "text/plain": [
       "<Figure size 432x288 with 1 Axes>"
      ]
     },
     "metadata": {},
     "output_type": "display_data"
    }
   ],
   "source": [
    "# Scatter plot\n",
    "plt.scatter(x = X, y = Y)"
   ]
  },
  {
   "cell_type": "code",
   "execution_count": 4,
   "metadata": {},
   "outputs": [],
   "source": [
    "# Your observations about relationship in X and Y \n",
    "# It looks like X and Y are positively correlated\n",
    "\n",
    "\n",
    "#"
   ]
  },
  {
   "cell_type": "markdown",
   "metadata": {},
   "source": [
    "In a data analysis context, we can think of these points as two vectors:\n",
    "\n",
    "* **vector X**: the features of our model\n",
    "* **vector Y**: the labels for given features\n",
    "\n",
    "## Write a function calc_slope()\n",
    "\n",
    "Write a function `calc_clope()` that takes in x and y vectors and calculates the slope using the formula shown above. "
   ]
  },
  {
   "cell_type": "code",
   "execution_count": 7,
   "metadata": {},
   "outputs": [
    {
     "data": {
      "text/plain": [
       "0.5393518518518512"
      ]
     },
     "execution_count": 7,
     "metadata": {},
     "output_type": "execute_result"
    }
   ],
   "source": [
    "# Write the function to calculate slope as: \n",
    "# (mean(x) * mean(y) – mean(x*y)) / ( mean (x)^2 – mean( x^2))\n",
    "def calc_slope(x,y):\n",
    "    slope = (np.mean(x) * np.mean(y) - np.mean(x*y)) / ( np.mean(x)**2 - np.mean(x**2))\n",
    "    return slope\n",
    "\n",
    "calc_slope(X,Y)\n",
    "\n",
    "# 0.5393518518518512"
   ]
  },
  {
   "cell_type": "markdown",
   "metadata": {},
   "source": [
    "Great, so we have our slope. Next we calculate the intercept. "
   ]
  },
  {
   "cell_type": "markdown",
   "metadata": {},
   "source": [
    "As a reminder, the calculation for the best-fit line's y-intercept is:\n",
    "\n",
    "![](best-fit-y-intercept.png)\n",
    "\n",
    "## Write a function best_fit()\n",
    "\n",
    "Write a function `best_fit()` that takes in X and Y, calculates the slope using above above  and intercept using the formula. The function should return slope and intercept values. "
   ]
  },
  {
   "cell_type": "code",
   "execution_count": 11,
   "metadata": {},
   "outputs": [
    {
     "data": {
      "text/plain": [
       "(0.5393518518518512, 6.379629629629633)"
      ]
     },
     "execution_count": 11,
     "metadata": {},
     "output_type": "execute_result"
    }
   ],
   "source": [
    "# use the slope function with intercept formula to return calculate slop and intercept from data points\n",
    "\n",
    "def best_fit(xs,ys):\n",
    "    slope = calc_slope(xs,ys)\n",
    "    b = np.mean(ys) - slope*np.mean(xs)\n",
    "    return(slope, b)\n",
    "\n",
    "# Uncomment below to test your function\n",
    "\n",
    "m,b = best_fit(X,Y)\n",
    "m,b\n",
    "\n",
    "# (0.5393518518518512, 6.379629629629633)"
   ]
  },
  {
   "cell_type": "markdown",
   "metadata": {},
   "source": [
    "We now have a working model with `m` and `b` as model parameters. We can create a line for the data points using the calculated slope and intercept:\n",
    "\n",
    "* Recall that `y=mx+b`. We can now use slope and intercept values along with X data points (features) to calculate the Y data points (labels) of the regression line. \n",
    "\n",
    "## Write a function reg_line() \n",
    "\n",
    "Write a function `reg_line()` that takes in slope, intercept and X vector and calculates the regression line using Y= mX+c for each point in X."
   ]
  },
  {
   "cell_type": "code",
   "execution_count": 20,
   "metadata": {},
   "outputs": [
    {
     "data": {
      "text/plain": [
       "[6.9189814814814845,\n",
       " 7.458333333333336,\n",
       " 7.997685185185187,\n",
       " 8.537037037037038,\n",
       " 9.07638888888889,\n",
       " 9.61574074074074,\n",
       " 10.694444444444443,\n",
       " 10.694444444444443,\n",
       " 11.233796296296294,\n",
       " 11.773148148148145]"
      ]
     },
     "execution_count": 20,
     "metadata": {},
     "output_type": "execute_result"
    }
   ],
   "source": [
    "def reg_line (m, b, xs):\n",
    "    reg = []\n",
    "    for x in xs:\n",
    "        reg.append((m*x) + b)\n",
    "    return reg\n",
    "\n",
    "\n",
    "# Uncomment below\n",
    "regression_line = reg_line(m,b,X)\n",
    "regression_line"
   ]
  },
  {
   "cell_type": "markdown",
   "metadata": {},
   "source": [
    "## Plot the (x,y) data points and draw the calculated regression line for visual inspection"
   ]
  },
  {
   "cell_type": "code",
   "execution_count": 25,
   "metadata": {},
   "outputs": [
    {
     "data": {
      "text/plain": [
       "[<matplotlib.lines.Line2D at 0x112ebddd8>]"
      ]
     },
     "execution_count": 25,
     "metadata": {},
     "output_type": "execute_result"
    },
    {
     "data": {
      "image/png": "[encoded data removed]",
      "text/plain": [
       "<Figure size 432x288 with 1 Axes>"
      ]
     },
     "metadata": {},
     "output_type": "display_data"
    }
   ],
   "source": [
    "# Plot data and regression line\n",
    "plt.scatter(x = X, y = Y)\n",
    "plt.plot(X, regression_line, color = 'Blue')"
   ]
  },
  {
   "cell_type": "markdown",
   "metadata": {},
   "source": [
    "So there we have it, our least squares regression line. This is the best fit line and does describe the data pretty well (still not perfect though). \n",
    "\n",
    "## Describe your Model Mathematically and in words"
   ]
  },
  {
   "cell_type": "code",
   "execution_count": 9,
   "metadata": {},
   "outputs": [],
   "source": [
    "# Your answer here\n",
    "# First, I plotted the dataset, then I found the slope of the line of best fit and plotted that as well. \n",
    "\n"
   ]
  },
  {
   "cell_type": "markdown",
   "metadata": {},
   "source": [
    "## Predicting label for new data\n",
    "\n",
    "So, how might you go about actually making a prediction based on this model you just made?\n",
    "\n",
    "Now that we have a working model with m and b as model parameters. We can fill in a value of x with these parameters to identify a corresponding value of y according to our model. Recall the formula \n",
    "![](pred.jpg)\n",
    "\n",
    "Let's try to find a y prediction for a new value of x = 7 and unknown y, and plot the new prediction with existing data "
   ]
  },
  {
   "cell_type": "code",
   "execution_count": 29,
   "metadata": {},
   "outputs": [
    {
     "data": {
      "text/plain": [
       "10.155092592592592"
      ]
     },
     "execution_count": 29,
     "metadata": {},
     "output_type": "execute_result"
    }
   ],
   "source": [
    "x_new = 7\n",
    "y_predicted = m*x_new + b\n",
    "y_predicted\n",
    "\n",
    "# 10.155092592592592"
   ]
  },
  {
   "cell_type": "markdown",
   "metadata": {},
   "source": [
    "## Plot the prediction with actual data and regression line "
   ]
  },
  {
   "cell_type": "code",
   "execution_count": 33,
   "metadata": {},
   "outputs": [
    {
     "data": {
      "text/plain": [
       "<matplotlib.collections.PathCollection at 0x112b3a9b0>"
      ]
     },
     "execution_count": 33,
     "metadata": {},
     "output_type": "execute_result"
    },
    {
     "data": {
      "image/png": "[encoded data removed]",
      "text/plain": [
       "<Figure size 432x288 with 1 Axes>"
      ]
     },
     "metadata": {},
     "output_type": "display_data"
    }
   ],
   "source": [
    "# Plot as above and show the predicted value\n",
    "plt.scatter(x = X, y = Y, color = 'Green')\n",
    "plt.plot(X, regression_line, color = 'Blue')\n",
    "plt.scatter(x = x_new, y = y_predicted, color = 'Red',)"
   ]
  },
  {
   "cell_type": "markdown",
   "metadata": {},
   "source": [
    "We now know how to create our own models, which is great, but we're stilling missing something integral: how accurate is our model? This is the topic for discussion in the next lab."
   ]
  },
  {
   "cell_type": "markdown",
   "metadata": {},
   "source": [
    "## Summary\n",
    "\n",
    "In this lesson, we learnt how we can draw a best fit line for given data labels and features, by first calculating the slope and intercept. The calculated regression line was then used to predict the label (y-value) of a previously unseen feature (x-value). The lesson uses a simple set of data points for demonstration. Students should be able to plug in other datasets and practice with predictions for accuracy. "
   ]
  }
 ],
 "metadata": {
  "kernelspec": {
   "display_name": "Python 3",
   "language": "python",
   "name": "python3"
  },
  "language_info": {
   "codemirror_mode": {
    "name": "ipython",
    "version": 3
   },
   "file_extension": ".py",
   "mimetype": "text/x-python",
   "name": "python",
   "nbconvert_exporter": "python",
   "pygments_lexer": "ipython3",
   "version": "3.6.4"
  }
 },
 "nbformat": 4,
 "nbformat_minor": 2
}
